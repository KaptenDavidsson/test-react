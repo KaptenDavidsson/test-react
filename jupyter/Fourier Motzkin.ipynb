{
 "cells": [
  {
   "cell_type": "code",
   "execution_count": 2,
   "metadata": {
    "collapsed": false
   },
   "outputs": [],
   "source": [
    "def first_non_zero(row):\n",
    "    for i,el in enumerate(row):\n",
    "        if el != 0:\n",
    "            return el\n",
    "\n",
    "def print_matrix(mx):\n",
    "    for s in mx:\n",
    "        print('\\t'.join([str(x)[:6] for x in s]))\n",
    "\n",
    "def normalize(mx):\n",
    "    return [[x/abs(first_non_zero(y) if first_non_zero(y) != 0 else 1) for x in y] for y in mx]\n",
    "\n",
    "def partition(mx, col):\n",
    "    parts = {-1: [], 0: [], 1: []}\n",
    "    for row in mx:\n",
    "        parts[int(row[col])].append(row)\n",
    "    return parts\n"
   ]
  },
  {
   "cell_type": "code",
   "execution_count": 3,
   "metadata": {
    "collapsed": true
   },
   "outputs": [],
   "source": [
    "def add(a, b):\n",
    "    return [x+y for x,y in zip(a,b)]\n",
    "\n",
    "def pairs(a, b):\n",
    "    return  [] if len(a) == 0 else [add(a[0], bi) for bi in b] + pairs(a[1:], b)\n",
    "\n",
    "\n",
    "def find_singles_row(mx):\n",
    "    singles_row = []\n",
    "    for row in mx:\n",
    "        if sum(row[:-2]) == 0:\n",
    "            singles_row.append(row)\n",
    "            \n",
    "\n",
    "def fourierMotzkin(mx):\n",
    "    parts = {}\n",
    "    row_counter = 0\n",
    "    for col_counter in (range(len(mx[0])-2) if len(mx[0]) > 2 else [0]):\n",
    "        mx = normalize(mx)\n",
    "        print_matrix(mx)\n",
    "        print()\n",
    "        parts = partition(mx[row_counter:], col_counter)\n",
    "        mx = mx[:row_counter] + parts[1] + pairs(parts[1], parts[-1]) + parts[0]\n",
    "        row_counter += len(parts[1])\n",
    "        \n",
    "    \n",
    "        \n",
    "    mx = normalize(mx)\n",
    "    return mx"
   ]
  },
  {
   "cell_type": "code",
   "execution_count": 6,
   "metadata": {
    "collapsed": false
   },
   "outputs": [
    {
     "name": "stdout",
     "output_type": "stream",
     "text": [
      "1.0\t1.0\t1.0\t-1.0\n",
      "-1.0\t0.5\t-0.5\t0.5\n",
      "-1.0\t0.0\t0.0\t0.0\n",
      "0.0\t-1.0\t0.0\t0.0\n",
      "0.0\t0.0\t-1.0\t0.0\n",
      "\n",
      "1.0\t1.0\t1.0\t-1.0\n",
      "0.0\t1.0\t0.3333\t-0.333\n",
      "0.0\t1.0\t1.0\t-1.0\n",
      "0.0\t-1.0\t0.0\t0.0\n",
      "0.0\t0.0\t-1.0\t0.0\n",
      "\n",
      "1.0\t1.0\t1.0\t-1.0\n",
      "0.0\t1.0\t0.3333\t-0.333\n",
      "0.0\t1.0\t1.0\t-1.0\n",
      "0.0\t0.0\t1.0\t-1.0\n",
      "0.0\t0.0\t1.0\t-1.0\n",
      "0.0\t0.0\t-1.0\t0.0\n"
     ]
    }
   ],
   "source": [
    "mx = [[ 1,  1,  1,  -1],\n",
    "     [ -2,  1,  -1,  1],\n",
    "     [ -1,  0,  0,  0],\n",
    "     [ 0, -1,  0,  0],\n",
    "     [ 0,  0, -1,  0]]\n",
    "\n",
    "print_matrix(fourierMotzkin(mx))"
   ]
  },
  {
   "cell_type": "code",
   "execution_count": 5,
   "metadata": {
    "collapsed": false
   },
   "outputs": [
    {
     "name": "stdout",
     "output_type": "stream",
     "text": [
      "1.0\t1.0\t1.0\t-1.0\n",
      "-1.0\t0.5\t-0.5\t0.5\n",
      "-1.0\t0.0\t0.0\t0.0\n",
      "0.0\t-1.0\t0.0\t0.0\n",
      "\n",
      "1.0\t1.0\t1.0\t-1.0\n",
      "0.0\t1.0\t0.3333\t-0.333\n",
      "0.0\t1.0\t1.0\t-1.0\n",
      "0.0\t-1.0\t0.0\t0.0\n",
      "\n",
      "1.0\t1.0\t1.0\t-1.0\n",
      "0.0\t1.0\t0.3333\t-0.333\n",
      "0.0\t1.0\t1.0\t-1.0\n",
      "0.0\t0.0\t1.0\t-1.0\n",
      "0.0\t0.0\t1.0\t-1.0\n"
     ]
    }
   ],
   "source": [
    "mx = [[ 1,  1,  1,  -1],\n",
    "     [ -2,  1,  -1,  1],\n",
    "     [ -1,  0,  0,  0],\n",
    "     [ 0, -1,  0,  0]]\n",
    "\n",
    "print_matrix(fourierMotzkin(mx))"
   ]
  },
  {
   "cell_type": "code",
   "execution_count": 42,
   "metadata": {
    "collapsed": false
   },
   "outputs": [
    {
     "name": "stdout",
     "output_type": "stream",
     "text": [
      "1.0\t-1.0\t2.0\n",
      "-1.0\t0.0\t0.0\n",
      "0.0\t1.0\t0.0\n",
      "\n",
      "1.0\t-1.0\t2.0\n",
      "0.0\t-1.0\t2.0\n",
      "0.0\t1.0\t0.0\n"
     ]
    }
   ],
   "source": [
    "mx = [[1, -1, 2], [-1, 0, 0], [0, 1, 0]]\n",
    "\n",
    "print_matrix(fourierMotzkin(mx))"
   ]
  }
 ],
 "metadata": {
  "kernelspec": {
   "display_name": "Python 3",
   "language": "python",
   "name": "python3"
  },
  "language_info": {
   "codemirror_mode": {
    "name": "ipython",
    "version": 3
   },
   "file_extension": ".py",
   "mimetype": "text/x-python",
   "name": "python",
   "nbconvert_exporter": "python",
   "pygments_lexer": "ipython3",
   "version": "3.6.0"
  }
 },
 "nbformat": 4,
 "nbformat_minor": 2
}
