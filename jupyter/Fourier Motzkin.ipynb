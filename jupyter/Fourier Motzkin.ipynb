{
 "cells": [
  {
   "cell_type": "code",
   "execution_count": 1,
   "metadata": {
    "collapsed": true
   },
   "outputs": [],
   "source": [
    "import random"
   ]
  },
  {
   "cell_type": "code",
   "execution_count": 88,
   "metadata": {
    "collapsed": true
   },
   "outputs": [],
   "source": [
    "def first_non_zero(row):\n",
    "    for i,el in enumerate(row):\n",
    "        if el != 0:\n",
    "            return el\n",
    "\n",
    "def print_matrix(mx):\n",
    "    for s in mx:\n",
    "        print('\\t'.join([str(x)[:6] for x in s]))\n",
    "\n",
    "def normalize(mx):\n",
    "    return [[x/abs(first_non_zero(y) if first_non_zero(y) != 0 else 1) for x in y] for y in mx]\n",
    "\n",
    "def partition(mx, col):\n",
    "    parts = {-1: [], 0: [], 1: []}\n",
    "    for row in mx:\n",
    "        parts[int(row[col])].append(row)\n",
    "    return parts"
   ]
  },
  {
   "cell_type": "code",
   "execution_count": 94,
   "metadata": {},
   "outputs": [],
   "source": [
    "def add(a, b):\n",
    "    return [x+y for x,y in zip(a,b)]\n",
    "\n",
    "def pairs(a, b):\n",
    "    return  [] if len(a) == 0 else [add(a[0], bi) for bi in b] + pairs(a[1:], b)\n",
    "\n",
    "\n",
    "def find_singles_row(mx):\n",
    "    singles_row = []\n",
    "    for row in mx:\n",
    "        if sum(row[:-2]) == 0:\n",
    "            singles_row.append(row)\n",
    "    return singles_row\n",
    "            \n",
    "def get_bounds(rows):\n",
    "    bounds = []\n",
    "    mi = [x[-1] for x in rows if x[-2] == -1]\n",
    "    bounds.append(max(mi) if len(mi) > 0 else -10)\n",
    "    ma = [-x[-1] for x in rows if x[-2] == 1]\n",
    "    bounds.append(min(ma) if len(ma) > 0 else 10)\n",
    "    \n",
    "    if (bounds[0] > bounds[1]):\n",
    "        raise Exception('Unsolvable')\n",
    "    \n",
    "    return bounds\n",
    "\n",
    "def replace_last(mx, value):\n",
    "    for row in mx:\n",
    "        row[-1] += row[-2]*value\n",
    "        del row[-2]\n",
    "        \n",
    "    return mx\n",
    "\n",
    "def fourierMotzkin(mx):\n",
    "    orig_mx = mx\n",
    "    parts = {}\n",
    "    row_counter = 0\n",
    "    for col_counter in (range(len(mx[0])-3)):\n",
    "        mx = normalize(mx)\n",
    "        parts = partition(mx[row_counter:], col_counter)\n",
    "        mx = mx[:row_counter] + parts[1] + pairs(parts[1], parts[-1]) + parts[0]\n",
    "        row_counter += len(parts[1])\n",
    "        \n",
    "    mx = normalize(mx)\n",
    "    return normalize(orig_mx) + mx\n",
    "\n",
    "def remove_empty_cols(mx):\n",
    "    indexes = [i for i,x in enumerate(list(zip(*mx))) if sum([abs(z) for z in x]) != 0]\n",
    "    \n",
    "    if len(mx[0])-1 not in indexes:\n",
    "        indexes.append(len(mx[0])-1)\n",
    "    \n",
    "    return [[el for i,el in enumerate(row) if i in indexes] for row in mx], indexes\n",
    "\n",
    "def bounds_int_range(bounds):\n",
    "    return bounds[1]-bounds[0] >= 2\n",
    "\n",
    "def get_closest_to_zero(bounds):\n",
    "    if bounds[0] >= 0:\n",
    "        return bounds[0]\n",
    "    elif bounds[1] <= 0:\n",
    "        return bounds[1]\n",
    "    else:\n",
    "        return 0\n",
    "    \n",
    "    return bounds.index(min([abs(b) for b in bounds]))\n",
    "            \n",
    "def get_variables(mx):\n",
    "    mx = fourierMotzkin(mx)\n",
    "    vs = [1]\n",
    "\n",
    "    for i in range(len(mx[0])-1):\n",
    "        bounds = get_bounds(find_singles_row(mx))\n",
    "        \n",
    "#         if bounds_int_range(bounds):\n",
    "#             v = random.randint(int(bounds[0]), int(bounds[1]))\n",
    "        v = get_closest_to_zero(bounds)\n",
    "#         else:\n",
    "#             v = random.uniform(*bounds)\n",
    "        \n",
    "        vs.append(v)\n",
    "        mx = replace_last(mx, v)\n",
    "\n",
    "    return vs[::-1]\n",
    "\n",
    "def test_variables(mx, vs):\n",
    "    print(vs)\n",
    "    for row in mx:\n",
    "        print(sum([x*vs[i] for i,x in enumerate(row)]))\n",
    "        "
   ]
  },
  {
   "cell_type": "code",
   "execution_count": 95,
   "metadata": {},
   "outputs": [
    {
     "name": "stdout",
     "output_type": "stream",
     "text": [
      "[-0.25, 0, 0, 0, 0, 0, 0, 0, 0, 0, 0, 0, 0, 0, 0, 0, 1]\n",
      "0.0\n",
      "0.0\n"
     ]
    }
   ],
   "source": [
    "mx = [[4, 0, 0, 0, 0, 0, 0, 0, 0, 0, 0, 0, 0, 0, 0, 0, 1], \n",
    "[4, 0, -1, -1, 0, 0, 0, 0, 0, 0, 0, 0, 0, 0, 0, 0, 1]]\n",
    "# mx, indexes = remove_empty_cols(mx)\n",
    "\n",
    "vs = get_variables(mx)\n",
    "test_variables(mx, vs)"
   ]
  },
  {
   "cell_type": "code",
   "execution_count": 49,
   "metadata": {},
   "outputs": [
    {
     "name": "stdout",
     "output_type": "stream",
     "text": [
      "2\t1\t1\t1\n",
      "0\t1\t0\t2\n",
      "1\t0\t0\t1\n",
      "[1.0, 0.5, 0.5, 0.5]\n",
      "[0.0, 1.0, 0.0, 2.0]\n",
      "[1.0, 0.0, 0.0, 1.0]\n",
      "1.0\t0.5\t0.5\t0.5\n",
      "1.0\t0.0\t0.0\t1.0\n",
      "0.0\t1.0\t0.0\t2.0\n",
      "[0.0, 1.0, 0.0, 2.0]\n",
      "[-1.0, -2.0, 0, 1]\n",
      "-3.0\n",
      "0.0\n",
      "0.0\n"
     ]
    }
   ],
   "source": [
    "mx = [[ 2,  1,  1,  1], [0, 1, 0, 2], [1, 0, 0, 1]]\n",
    "\n",
    "vs = get_variables(mx)\n",
    "test_variables(mx, vs)   "
   ]
  },
  {
   "cell_type": "code",
   "execution_count": 42,
   "metadata": {},
   "outputs": [
    {
     "name": "stdout",
     "output_type": "stream",
     "text": [
      "[-1.0, -2.0, 0, 0, 1]\n",
      "-3.0\n",
      "0.0\n",
      "0.0\n"
     ]
    }
   ],
   "source": [
    "mx = [[ 2,  1,  1, 0, 1], [0, 1, 0, 0, 2], [1, 0, 0, 0, 1]]\n",
    "\n",
    "vs = get_variables(mx)\n",
    "test_variables(mx, vs)   "
   ]
  },
  {
   "cell_type": "code",
   "execution_count": 40,
   "metadata": {},
   "outputs": [
    {
     "name": "stdout",
     "output_type": "stream",
     "text": [
      "[0.5, 0.0, 0.0, 0, 1]\n",
      "-0.5\n",
      "0.0\n",
      "-0.5\n",
      "0.0\n",
      "0.0\n"
     ]
    }
   ],
   "source": [
    "mx = [[ 1,  1,  1, 0,  -1],\n",
    "     [ -2,  1,  -1, 0,  1],\n",
    "     [ -1,  0,  0, 0,  0],\n",
    "     [ 0, -1,  0, 0,  0],\n",
    "     [ 0,  0, -1, 0,  0]]\n",
    "\n",
    "vs = get_variables(mx)\n",
    "test_variables(mx, vs)    "
   ]
  },
  {
   "cell_type": "code",
   "execution_count": 36,
   "metadata": {},
   "outputs": [
    {
     "name": "stdout",
     "output_type": "stream",
     "text": [
      "[0.5, 0.0, 0, 1]\n",
      "-0.5\n",
      "0.0\n",
      "-0.5\n",
      "0.0\n"
     ]
    }
   ],
   "source": [
    "mx = [[ 1,  1,  1,  -1],\n",
    "     [ -2,  1,  -1,  1],\n",
    "     [ -1,  0,  0,  0],\n",
    "     [ 0, -1,  0,  0]]\n",
    "\n",
    "vs = get_variables(mx)\n",
    "test_variables(mx, vs) "
   ]
  },
  {
   "cell_type": "code",
   "execution_count": 37,
   "metadata": {},
   "outputs": [
    {
     "ename": "Exception",
     "evalue": "Unsolvable",
     "output_type": "error",
     "traceback": [
      "\u001b[1;31m---------------------------------------------------------------------------\u001b[0m",
      "\u001b[1;31mException\u001b[0m                                 Traceback (most recent call last)",
      "\u001b[1;32m<ipython-input-37-55959f7cdd97>\u001b[0m in \u001b[0;36m<module>\u001b[1;34m()\u001b[0m\n\u001b[0;32m      1\u001b[0m \u001b[0mmx\u001b[0m \u001b[1;33m=\u001b[0m \u001b[1;33m[\u001b[0m\u001b[1;33m[\u001b[0m\u001b[1;36m1\u001b[0m\u001b[1;33m,\u001b[0m \u001b[1;33m-\u001b[0m\u001b[1;36m1\u001b[0m\u001b[1;33m,\u001b[0m \u001b[1;36m2\u001b[0m\u001b[1;33m]\u001b[0m\u001b[1;33m,\u001b[0m \u001b[1;33m[\u001b[0m\u001b[1;33m-\u001b[0m\u001b[1;36m1\u001b[0m\u001b[1;33m,\u001b[0m \u001b[1;36m0\u001b[0m\u001b[1;33m,\u001b[0m \u001b[1;36m0\u001b[0m\u001b[1;33m]\u001b[0m\u001b[1;33m,\u001b[0m \u001b[1;33m[\u001b[0m\u001b[1;36m0\u001b[0m\u001b[1;33m,\u001b[0m \u001b[1;36m1\u001b[0m\u001b[1;33m,\u001b[0m \u001b[1;36m0\u001b[0m\u001b[1;33m]\u001b[0m\u001b[1;33m]\u001b[0m\u001b[1;33m\u001b[0m\u001b[0m\n\u001b[0;32m      2\u001b[0m \u001b[1;33m\u001b[0m\u001b[0m\n\u001b[1;32m----> 3\u001b[1;33m \u001b[0mvs\u001b[0m \u001b[1;33m=\u001b[0m \u001b[0mget_variables\u001b[0m\u001b[1;33m(\u001b[0m\u001b[0mmx\u001b[0m\u001b[1;33m)\u001b[0m\u001b[1;33m\u001b[0m\u001b[0m\n\u001b[0m\u001b[0;32m      4\u001b[0m \u001b[0mtest_variables\u001b[0m\u001b[1;33m(\u001b[0m\u001b[0mmx\u001b[0m\u001b[1;33m,\u001b[0m \u001b[0mvs\u001b[0m\u001b[1;33m)\u001b[0m\u001b[1;33m\u001b[0m\u001b[0m\n",
      "\u001b[1;32m<ipython-input-33-d52621803909>\u001b[0m in \u001b[0;36mget_variables\u001b[1;34m(mx)\u001b[0m\n\u001b[0;32m     71\u001b[0m \u001b[1;33m\u001b[0m\u001b[0m\n\u001b[0;32m     72\u001b[0m     \u001b[1;32mfor\u001b[0m \u001b[0mi\u001b[0m \u001b[1;32min\u001b[0m \u001b[0mrange\u001b[0m\u001b[1;33m(\u001b[0m\u001b[0mlen\u001b[0m\u001b[1;33m(\u001b[0m\u001b[0mmx\u001b[0m\u001b[1;33m[\u001b[0m\u001b[1;36m0\u001b[0m\u001b[1;33m]\u001b[0m\u001b[1;33m)\u001b[0m\u001b[1;33m-\u001b[0m\u001b[1;36m1\u001b[0m\u001b[1;33m)\u001b[0m\u001b[1;33m:\u001b[0m\u001b[1;33m\u001b[0m\u001b[0m\n\u001b[1;32m---> 73\u001b[1;33m         \u001b[0mbounds\u001b[0m \u001b[1;33m=\u001b[0m \u001b[0mget_bounds\u001b[0m\u001b[1;33m(\u001b[0m\u001b[0mfind_singles_row\u001b[0m\u001b[1;33m(\u001b[0m\u001b[0mmx\u001b[0m\u001b[1;33m)\u001b[0m\u001b[1;33m)\u001b[0m\u001b[1;33m\u001b[0m\u001b[0m\n\u001b[0m\u001b[0;32m     74\u001b[0m \u001b[1;33m\u001b[0m\u001b[0m\n\u001b[0;32m     75\u001b[0m \u001b[1;31m#         if bounds_int_range(bounds):\u001b[0m\u001b[1;33m\u001b[0m\u001b[1;33m\u001b[0m\u001b[0m\n",
      "\u001b[1;32m<ipython-input-33-d52621803909>\u001b[0m in \u001b[0;36mget_bounds\u001b[1;34m(rows)\u001b[0m\n\u001b[0;32m     21\u001b[0m \u001b[1;33m\u001b[0m\u001b[0m\n\u001b[0;32m     22\u001b[0m     \u001b[1;32mif\u001b[0m \u001b[1;33m(\u001b[0m\u001b[0mbounds\u001b[0m\u001b[1;33m[\u001b[0m\u001b[1;36m0\u001b[0m\u001b[1;33m]\u001b[0m \u001b[1;33m>\u001b[0m \u001b[0mbounds\u001b[0m\u001b[1;33m[\u001b[0m\u001b[1;36m1\u001b[0m\u001b[1;33m]\u001b[0m\u001b[1;33m)\u001b[0m\u001b[1;33m:\u001b[0m\u001b[1;33m\u001b[0m\u001b[0m\n\u001b[1;32m---> 23\u001b[1;33m         \u001b[1;32mraise\u001b[0m \u001b[0mException\u001b[0m\u001b[1;33m(\u001b[0m\u001b[1;34m'Unsolvable'\u001b[0m\u001b[1;33m)\u001b[0m\u001b[1;33m\u001b[0m\u001b[0m\n\u001b[0m\u001b[0;32m     24\u001b[0m \u001b[1;33m\u001b[0m\u001b[0m\n\u001b[0;32m     25\u001b[0m     \u001b[1;32mreturn\u001b[0m \u001b[0mbounds\u001b[0m\u001b[1;33m\u001b[0m\u001b[0m\n",
      "\u001b[1;31mException\u001b[0m: Unsolvable"
     ]
    }
   ],
   "source": [
    "mx = [[1, -1, 2], [-1, 0, 0], [0, 1, 0]]\n",
    "\n",
    "vs = get_variables(mx)\n",
    "test_variables(mx, vs) "
   ]
  },
  {
   "cell_type": "code",
   "execution_count": 38,
   "metadata": {},
   "outputs": [
    {
     "name": "stdout",
     "output_type": "stream",
     "text": [
      "[0.0, 2.0, 1]\n",
      "0.0\n",
      "0.0\n",
      "-2.0\n"
     ]
    }
   ],
   "source": [
    "mx = [[1, -1, 0, 2], [-1, 0, 0, 0], [0, -1, 0, 0]]\n",
    "\n",
    "mx, indexes = remove_empty_cols(mx)\n",
    "vs = get_variables(mx)\n",
    "test_variables(mx, vs) "
   ]
  },
  {
   "cell_type": "code",
   "execution_count": 39,
   "metadata": {},
   "outputs": [
    {
     "name": "stdout",
     "output_type": "stream",
     "text": [
      "[-0.0, -0.0, 0, 1]\n",
      "0.0\n",
      "0.0\n"
     ]
    }
   ],
   "source": [
    "mx = [[1, 0, 1, 0], [0, 1, 0, 0]]\n",
    "\n",
    "mx, indexes = remove_empty_cols(mx)\n",
    "vs = get_variables(mx)\n",
    "test_variables(mx, vs) "
   ]
  }
 ],
 "metadata": {
  "kernelspec": {
   "display_name": "Python 3",
   "language": "python",
   "name": "python3"
  },
  "language_info": {
   "codemirror_mode": {
    "name": "ipython",
    "version": 3
   },
   "file_extension": ".py",
   "mimetype": "text/x-python",
   "name": "python",
   "nbconvert_exporter": "python",
   "pygments_lexer": "ipython3",
   "version": "3.6.1"
  }
 },
 "nbformat": 4,
 "nbformat_minor": 2
}
