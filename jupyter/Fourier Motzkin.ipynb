{
 "cells": [
  {
   "cell_type": "code",
   "execution_count": 44,
   "metadata": {
    "collapsed": false
   },
   "outputs": [],
   "source": [
    "def print_matrix(mx):\n",
    "    for s in mx:\n",
    "        print('\\t'.join([str(x) for x in s]))\n",
    "\n",
    "def normalize(mx):\n",
    "    return [[x/abs(y[0] if y[0] != 0 else 1) for x in y] for y in mx]\n",
    "\n",
    "def removeFirstCol(mx): \n",
    "    return list(map(lambda row: row[1:], mx))\n",
    "\n",
    "def partition(mx):\n",
    "    parts = {-1: [], 0: [], 1: []}\n",
    "    for row in mx:\n",
    "        parts[int(row[0])].append(row)\n",
    "    return parts"
   ]
  },
  {
   "cell_type": "code",
   "execution_count": 48,
   "metadata": {
    "collapsed": false
   },
   "outputs": [],
   "source": [
    "def add(a, b):\n",
    "    return [x+y for x,y in zip(a,b)]\n",
    "\n",
    "def pairs(a, b):\n",
    "    return  [] if len(a) == 0 else [add(a[0], bi) for bi in b] + pairs(a[1:], b)\n",
    "\n",
    "\n",
    "def fourierMotzkin(mx):\n",
    "    parts = {}\n",
    "    while(len(mx[0]) > 2):\n",
    "        mx = normalize(mx)\n",
    "        print_matrix(mx)\n",
    "        print()\n",
    "        parts = partition(mx)\n",
    "        print(parts)\n",
    "        print()\n",
    "        mx = parts[1] + pairs(parts[1], parts[-1]) + parts[0]\n",
    "        print_matrix(mx)\n",
    "\n",
    "        mx = removeFirstCol(mx)\n",
    "        print()\n",
    "        \n",
    "    mx = normalize(mx)\n",
    "    parts = partition(mx)\n",
    "    return parts"
   ]
  },
  {
   "cell_type": "code",
   "execution_count": 49,
   "metadata": {
    "collapsed": false
   },
   "outputs": [
    {
     "name": "stdout",
     "output_type": "stream",
     "text": [
      "1.0\t1.0\t1.0\t1.0\n",
      "-1.0\t0.5\t-0.5\t-0.5\n",
      "-1.0\t-4.0\t1.0\t-2.0\n",
      "1.0\t0.0\t0.0\t0.0\n",
      "0.0\t-1.0\t0.0\t0.0\n",
      "0.0\t0.0\t-1.0\t0.0\n",
      "\n",
      "{-1: [[-1.0, 0.5, -0.5, -0.5], [-1.0, -4.0, 1.0, -2.0]], 0: [[0.0, -1.0, 0.0, 0.0], [0.0, 0.0, -1.0, 0.0]], 1: [[1.0, 1.0, 1.0, 1.0], [1.0, 0.0, 0.0, 0.0]]}\n",
      "\n",
      "1.0\t1.0\t1.0\t1.0\n",
      "1.0\t0.0\t0.0\t0.0\n",
      "0.0\t1.5\t0.5\t0.5\n",
      "0.0\t-3.0\t2.0\t-1.0\n",
      "0.0\t0.5\t-0.5\t-0.5\n",
      "0.0\t-4.0\t1.0\t-2.0\n",
      "0.0\t-1.0\t0.0\t0.0\n",
      "0.0\t0.0\t-1.0\t0.0\n",
      "\n",
      "1.0\t1.0\t1.0\n",
      "0.0\t0.0\t0.0\n",
      "1.0\t0.3333333333333333\t0.3333333333333333\n",
      "-1.0\t0.6666666666666666\t-0.3333333333333333\n",
      "1.0\t-1.0\t-1.0\n",
      "-1.0\t0.25\t-0.5\n",
      "-1.0\t0.0\t0.0\n",
      "0.0\t-1.0\t0.0\n",
      "\n",
      "{-1: [[-1.0, 0.6666666666666666, -0.3333333333333333], [-1.0, 0.25, -0.5], [-1.0, 0.0, 0.0]], 0: [[0.0, 0.0, 0.0], [0.0, -1.0, 0.0]], 1: [[1.0, 1.0, 1.0], [1.0, 0.3333333333333333, 0.3333333333333333], [1.0, -1.0, -1.0]]}\n",
      "\n",
      "1.0\t1.0\t1.0\n",
      "1.0\t0.3333333333333333\t0.3333333333333333\n",
      "1.0\t-1.0\t-1.0\n",
      "0.0\t1.6666666666666665\t0.6666666666666667\n",
      "0.0\t1.25\t0.5\n",
      "0.0\t1.0\t1.0\n",
      "0.0\t1.0\t0.0\n",
      "0.0\t0.5833333333333333\t-0.16666666666666669\n",
      "0.0\t0.3333333333333333\t0.3333333333333333\n",
      "0.0\t-0.33333333333333337\t-1.3333333333333333\n",
      "0.0\t-0.75\t-1.5\n",
      "0.0\t-1.0\t-1.0\n",
      "0.0\t0.0\t0.0\n",
      "0.0\t-1.0\t0.0\n",
      "\n"
     ]
    },
    {
     "ename": "TypeError",
     "evalue": "'int' object is not iterable",
     "output_type": "error",
     "traceback": [
      "\u001b[0;31m---------------------------------------------------------------------------\u001b[0m",
      "\u001b[0;31mTypeError\u001b[0m                                 Traceback (most recent call last)",
      "\u001b[0;32m<ipython-input-49-890b926bdd11>\u001b[0m in \u001b[0;36m<module>\u001b[0;34m()\u001b[0m\n\u001b[1;32m      6\u001b[0m      [ 0,  0, -1,  0]]\n\u001b[1;32m      7\u001b[0m \u001b[1;33m\u001b[0m\u001b[0m\n\u001b[0;32m----> 8\u001b[0;31m \u001b[0mprint_matrix\u001b[0m\u001b[1;33m(\u001b[0m\u001b[0mfourierMotzkin\u001b[0m\u001b[1;33m(\u001b[0m\u001b[0mmx\u001b[0m\u001b[1;33m)\u001b[0m\u001b[1;33m)\u001b[0m\u001b[1;33m\u001b[0m\u001b[0m\n\u001b[0m",
      "\u001b[0;32m<ipython-input-44-94a7d619ca20>\u001b[0m in \u001b[0;36mprint_matrix\u001b[0;34m(mx)\u001b[0m\n\u001b[1;32m      1\u001b[0m \u001b[1;32mdef\u001b[0m \u001b[0mprint_matrix\u001b[0m\u001b[1;33m(\u001b[0m\u001b[0mmx\u001b[0m\u001b[1;33m)\u001b[0m\u001b[1;33m:\u001b[0m\u001b[1;33m\u001b[0m\u001b[0m\n\u001b[1;32m      2\u001b[0m     \u001b[1;32mfor\u001b[0m \u001b[0ms\u001b[0m \u001b[1;32min\u001b[0m \u001b[0mmx\u001b[0m\u001b[1;33m:\u001b[0m\u001b[1;33m\u001b[0m\u001b[0m\n\u001b[0;32m----> 3\u001b[0;31m         \u001b[0mprint\u001b[0m\u001b[1;33m(\u001b[0m\u001b[1;34m'\\t'\u001b[0m\u001b[1;33m.\u001b[0m\u001b[0mjoin\u001b[0m\u001b[1;33m(\u001b[0m\u001b[1;33m[\u001b[0m\u001b[0mstr\u001b[0m\u001b[1;33m(\u001b[0m\u001b[0mx\u001b[0m\u001b[1;33m)\u001b[0m \u001b[1;32mfor\u001b[0m \u001b[0mx\u001b[0m \u001b[1;32min\u001b[0m \u001b[0ms\u001b[0m\u001b[1;33m]\u001b[0m\u001b[1;33m)\u001b[0m\u001b[1;33m)\u001b[0m\u001b[1;33m\u001b[0m\u001b[0m\n\u001b[0m\u001b[1;32m      4\u001b[0m \u001b[1;33m\u001b[0m\u001b[0m\n\u001b[1;32m      5\u001b[0m \u001b[1;32mdef\u001b[0m \u001b[0mnormalize\u001b[0m\u001b[1;33m(\u001b[0m\u001b[0mmx\u001b[0m\u001b[1;33m)\u001b[0m\u001b[1;33m:\u001b[0m\u001b[1;33m\u001b[0m\u001b[0m\n",
      "\u001b[0;31mTypeError\u001b[0m: 'int' object is not iterable"
     ]
    }
   ],
   "source": [
    "mx = [[ 1,  1,  1,  1],\n",
    "     [-2,  1, -1, -1],\n",
    "     [-1, -4,  1, -2],\n",
    "     [ 1,  0,  0,  0],\n",
    "     [ 0, -1,  0,  0],\n",
    "     [ 0,  0, -1,  0]]\n",
    "\n",
    "print_matrix(fourierMotzkin(mx))"
   ]
  },
  {
   "cell_type": "code",
   "execution_count": 4,
   "metadata": {
    "collapsed": false
   },
   "outputs": [
    {
     "data": {
      "text/plain": [
       "{0: [], 1: [[0, 0]], 2: [[1.0, 0.0, 0.0]]}"
      ]
     },
     "execution_count": 4,
     "metadata": {},
     "output_type": "execute_result"
    }
   ],
   "source": [
    "mx = [[1 -1, 0], [1, 0, 0]]\n",
    "\n",
    "fourierMotzkin(mx)"
   ]
  }
 ],
 "metadata": {
  "kernelspec": {
   "display_name": "Python 3",
   "language": "python",
   "name": "python3"
  },
  "language_info": {
   "codemirror_mode": {
    "name": "ipython",
    "version": 3
   },
   "file_extension": ".py",
   "mimetype": "text/x-python",
   "name": "python",
   "nbconvert_exporter": "python",
   "pygments_lexer": "ipython3",
   "version": "3.6.0"
  }
 },
 "nbformat": 4,
 "nbformat_minor": 2
}
