{
 "cells": [
  {
   "cell_type": "code",
   "execution_count": null,
   "metadata": {
    "collapsed": true
   },
   "outputs": [],
   "source": [
    "def normalize(mx):\n",
    "  return mx.map(lambda row: \n",
    "    row[0] > 0 ? row.map(function(field) { return  field/row[0]; }) :\n",
    "    row[0] < 0 ? row.map(function(field) { return -field/row[0]; }) :\n",
    "           row;\n",
    "\n",
    "def removeFirstCol(mx): \n",
    "  return mx.map(function(row) \n",
    "    return row.slice(1);\n",
    "\n",
    "def partition(mx):\n",
    "  return mx.reduce(function(parts, row) \n",
    "    parts[row[0]+1].push(row)\n",
    "    return parts\n",
    "  }, [[],[],[]])\n",
    "\n",
    "def add(a, b):\n",
    "  return a.map(function(ai, i) \n",
    "    return ai + b[i]\n",
    "\n",
    "def pairs(a, b):\n",
    "  return !a.length ? [] : b.map(function(bi) \n",
    "    return add(a[0], bi)\n",
    "  }).concat(pairs(a.slice(1), b));\n",
    "}\n",
    "\n",
    "def fourierMotzkin(mx):\n",
    "  var parts;\n",
    "  while(mx[0].length > 2) \n",
    "    mx = normalize(mx)\n",
    "    parts = partition(mx)\n",
    "    mx = pairs(parts[0], parts[2]).concat(parts[1])\n",
    "    mx = removeFirstCol(mx)\n",
    "    console.log(mx)\n",
    "  }\n",
    "  mx = normalize(mx)\n",
    "  parts = partition(mx)\n",
    "  return parts\n",
    "  var min = parts[0]\n",
    "    .map(function(row) { return row[1]; })\n",
    "    .reduce(function(min, a) {\n",
    "      return Math.min(min, a)\n",
    "    }, parts[0][0][1])\n",
    "  var max = parts[2]\n",
    "    .map(function(row) { return row[1]; })\n",
    "    .reduce(function(max, a) \n",
    "      return Math.min(max, a)\n",
    "    }, parts[2][0][1])\n",
    "  if(min !== undefined && max !== undefined) \n",
    "    return -min <= max\n",
    "  return True\n"
   ]
  }
 ],
 "metadata": {
  "kernelspec": {
   "display_name": "Python 3",
   "language": "python",
   "name": "python3"
  },
  "language_info": {
   "codemirror_mode": {
    "name": "ipython",
    "version": 3
   },
   "file_extension": ".py",
   "mimetype": "text/x-python",
   "name": "python",
   "nbconvert_exporter": "python",
   "pygments_lexer": "ipython3",
   "version": "3.6.0"
  }
 },
 "nbformat": 4,
 "nbformat_minor": 2
}
