{
 "cells": [
  {
   "cell_type": "code",
   "execution_count": 1,
   "metadata": {
    "collapsed": false
   },
   "outputs": [],
   "source": [
    "from flask import Flask\n",
    "from datetime import timedelta\n",
    "from flask import make_response, request, current_app\n",
    "from functools import update_wrapper\n",
    "from flask import jsonify\n",
    "from flask_sqlalchemy import SQLAlchemy\n",
    "from sqlalchemy import Column, ForeignKey, Integer, String"
   ]
  },
  {
   "cell_type": "code",
   "execution_count": 2,
   "metadata": {
    "collapsed": false
   },
   "outputs": [],
   "source": [
    "import sys\n",
    "sys.path.insert(0, '../flask')\n",
    "\n",
    "from hello import db,app, Todo"
   ]
  },
  {
   "cell_type": "code",
   "execution_count": 5,
   "metadata": {
    "collapsed": false
   },
   "outputs": [
    {
     "data": {
      "text/plain": [
       "[{'id': 1,\n",
       "  'todoDescription': 'My first todo description',\n",
       "  'todoPriority': 'low',\n",
       "  'todoResponsible': 'Me',\n",
       "  'todoTitle': 'My first todo'},\n",
       " {'id': 2,\n",
       "  'todoDescription': 'todoDescription',\n",
       "  'todoPriority': 'todoPriority',\n",
       "  'todoResponsible': 'todoResponsible',\n",
       "  'todoTitle': 'todoTitle'},\n",
       " {'id': 3,\n",
       "  'todoDescription': 'todoDescription2',\n",
       "  'todoPriority': 'todoPriority2',\n",
       "  'todoResponsible': 'todoResponsible2',\n",
       "  'todoTitle': 'todoTitle2'}]"
      ]
     },
     "execution_count": 5,
     "metadata": {},
     "output_type": "execute_result"
    }
   ],
   "source": [
    "[x.as_dict() for x in Todo.query.all()]"
   ]
  },
  {
   "cell_type": "code",
   "execution_count": 4,
   "metadata": {
    "collapsed": true
   },
   "outputs": [],
   "source": [
    "db.session.add(Todo(todoTitle='todoTitle2', todoResponsible='todoResponsible2',\n",
    "                   todoDescription='todoDescription2', todoPriority='todoPriority2'))\n",
    "db.session.commit()"
   ]
  }
 ],
 "metadata": {
  "kernelspec": {
   "display_name": "Python 3",
   "language": "python",
   "name": "python3"
  },
  "language_info": {
   "codemirror_mode": {
    "name": "ipython",
    "version": 3
   },
   "file_extension": ".py",
   "mimetype": "text/x-python",
   "name": "python",
   "nbconvert_exporter": "python",
   "pygments_lexer": "ipython3",
   "version": "3.5.1"
  }
 },
 "nbformat": 4,
 "nbformat_minor": 0
}
